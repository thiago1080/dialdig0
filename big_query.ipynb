{
 "cells": [
  {
   "attachments": {},
   "cell_type": "markdown",
   "metadata": {},
   "source": [
    "## Overture"
   ]
  },
  {
   "cell_type": "code",
   "execution_count": 1,
   "metadata": {},
   "outputs": [],
   "source": [
    "from google.cloud import bigquery\n",
    "from google.oauth2 import service_account\n",
    "import pandas as pd"
   ]
  },
  {
   "cell_type": "code",
   "execution_count": 2,
   "metadata": {},
   "outputs": [],
   "source": [
    "SERVICE_ACCOUNT_FILE = './config/local/rd-multicanal-caip-prod-0ec5b75f6a1b.json'"
   ]
  },
  {
   "cell_type": "code",
   "execution_count": 3,
   "metadata": {},
   "outputs": [],
   "source": [
    "credentials = service_account.Credentials.from_service_account_file( SERVICE_ACCOUNT_FILE)"
   ]
  },
  {
   "attachments": {},
   "cell_type": "markdown",
   "metadata": {},
   "source": [
    "## Connection"
   ]
  },
  {
   "cell_type": "code",
   "execution_count": 4,
   "metadata": {},
   "outputs": [],
   "source": [
    "client = bigquery.Client(credentials=credentials)"
   ]
  },
  {
   "attachments": {},
   "cell_type": "markdown",
   "metadata": {},
   "source": [
    "## Explore"
   ]
  },
  {
   "attachments": {},
   "cell_type": "markdown",
   "metadata": {},
   "source": [
    "### List Datasets"
   ]
  },
  {
   "cell_type": "code",
   "execution_count": 39,
   "metadata": {},
   "outputs": [
    {
     "name": "stdout",
     "output_type": "stream",
     "text": [
      "Datasets in project 'rd-multicanal-caip-prod':\n",
      "caip\n",
      "caip2\n",
      "kibana\n",
      "orders\n"
     ]
    }
   ],
   "source": [
    "datasets = client.list_datasets()\n",
    "\n",
    "print(\"Datasets in project '{}':\".format(client.project))\n",
    "for dataset in datasets:\n",
    "    print(dataset.dataset_id)"
   ]
  },
  {
   "attachments": {},
   "cell_type": "markdown",
   "metadata": {},
   "source": [
    "### List tables in dataset"
   ]
  },
  {
   "cell_type": "code",
   "execution_count": 64,
   "metadata": {},
   "outputs": [
    {
     "name": "stdout",
     "output_type": "stream",
     "text": [
      "\t\trd-multicanal-caip-prod.caip.comment\n",
      "\t\trd-multicanal-caip-prod.caip.feedback\n"
     ]
    }
   ],
   "source": [
    "tables = client.list_tables('caip')\n",
    "print(\"\\tTables contained in '{}':\".format(dataset.dataset_id))\n",
    "for table in tables:\n",
    "    print(\"\\t\\t{}.{}.{}\".format(table.project, table.dataset_id, table.table_id))"
   ]
  },
  {
   "attachments": {},
   "cell_type": "markdown",
   "metadata": {},
   "source": [
    "### List columns in a table"
   ]
  },
  {
   "cell_type": "code",
   "execution_count": 67,
   "metadata": {},
   "outputs": [
    {
     "name": "stdout",
     "output_type": "stream",
     "text": [
      "\t\t\tColumns in 'comment':\n",
      "\t\t\t\t'sk_comment'\n",
      "\t\t\t\t'sk_feedback'\n",
      "\t\t\t\t'comment'\n",
      "\t\t\t\t'created_ts'\n"
     ]
    }
   ],
   "source": [
    "dataset_id = 'caip'\n",
    "table_id = 'comment'\n",
    "table_ref = client.dataset(dataset_id).table(table_id)\n",
    "table_obj = client.get_table(table_ref)\n",
    "print(\"\\t\\t\\tColumns in '{}':\".format(table_id))\n",
    "for field in table_obj.schema:\n",
    "    print(\"\\t\\t\\t\\t'{}'\".format(field.name))"
   ]
  },
  {
   "attachments": {},
   "cell_type": "markdown",
   "metadata": {},
   "source": [
    "### List everything"
   ]
  },
  {
   "cell_type": "code",
   "execution_count": 61,
   "metadata": {},
   "outputs": [
    {
     "name": "stdout",
     "output_type": "stream",
     "text": [
      "Datasets in project 'rd-multicanal-caip-prod':\n",
      "caip\n",
      "\tTables contained in 'caip':\n",
      "\t\trd-multicanal-caip-prod.caip.comment\n",
      "\t\t\tColumns in 'comment':\n",
      "\t\t\t\t'sk_comment'\n",
      "\t\t\t\t'sk_feedback'\n",
      "\t\t\t\t'comment'\n",
      "\t\t\t\t'created_ts'\n",
      "\t\trd-multicanal-caip-prod.caip.feedback\n",
      "\t\t\tColumns in 'feedback':\n",
      "\t\t\t\t'session_id'\n",
      "\t\t\t\t'sk_feedback'\n",
      "\t\t\t\t'brand'\n",
      "\t\t\t\t'channel'\n",
      "\t\t\t\t'master_bot'\n",
      "\t\t\t\t'worker_bot'\n",
      "\t\t\t\t'usecase_name'\n",
      "\t\t\t\t'tracked_flow'\n",
      "\t\t\t\t'feedback'\n",
      "\t\t\t\t'created_ts'\n",
      "caip2\n",
      "\tTables contained in 'caip2':\n",
      "\t\trd-multicanal-caip-prod.caip2.comment\n",
      "\t\t\tColumns in 'comment':\n",
      "\t\t\t\t'sk_comment'\n",
      "\t\t\t\t'sk_feedback'\n",
      "\t\t\t\t'comment'\n",
      "\t\t\t\t'created_ts'\n",
      "\t\trd-multicanal-caip-prod.caip2.feedback\n",
      "\t\t\tColumns in 'feedback':\n",
      "\t\t\t\t'session_id'\n",
      "\t\t\t\t'sk_feedback'\n",
      "\t\t\t\t'brand'\n",
      "\t\t\t\t'channel'\n",
      "\t\t\t\t'master_bot'\n",
      "\t\t\t\t'worker_bot'\n",
      "\t\t\t\t'usecase_name'\n",
      "\t\t\t\t'tracked_flow'\n",
      "\t\t\t\t'feedback'\n",
      "\t\t\t\t'created_ts'\n",
      "\t\trd-multicanal-caip-prod.caip2.feedback19JAN23\n",
      "\t\t\tColumns in 'feedback19JAN23':\n",
      "\t\t\t\t'session_id'\n",
      "\t\t\t\t'sk_feedback'\n",
      "\t\t\t\t'brand'\n",
      "\t\t\t\t'channel'\n",
      "\t\t\t\t'master_bot'\n",
      "\t\t\t\t'worker_bot'\n",
      "\t\t\t\t'usecase_name'\n",
      "\t\t\t\t'tracked_flow'\n",
      "\t\t\t\t'feedback'\n",
      "\t\t\t\t'created_ts'\n",
      "kibana\n",
      "\tTables contained in 'kibana':\n",
      "\t\trd-multicanal-caip-prod.kibana.call_logs\n",
      "\t\t\tColumns in 'call_logs':\n",
      "\t\t\t\t'sessionId'\n",
      "\t\t\t\t'channel'\n",
      "\t\t\t\t'user'\n",
      "\t\t\t\t'brand'\n",
      "\t\t\t\t'transbordo'\n",
      "\t\t\t\t'avaliacao'\n",
      "\t\t\t\t'total_mensagens'\n",
      "\t\t\t\t'inicio_sessao_GMT_0'\n",
      "\t\t\t\t'fim_sessao_GMT_0'\n",
      "\t\t\t\t'inicio_sessao_GMT_BR'\n",
      "\t\t\t\t'fim_sessao_GMT_BR'\n",
      "\t\t\t\t'duracao_sessao'\n",
      "\t\t\t\t'usecasename'\n",
      "\t\t\t\t'currentstepname'\n",
      "\t\t\t\t'masterBotId'\n",
      "\t\t\t\t'masterBotName'\n",
      "\t\t\t\t'useCase'\n",
      "\t\t\t\t'data_br'\n",
      "\t\t\t\t'hora_br'\n",
      "\t\t\t\t'sk'\n",
      "\t\t\t\t'created'\n",
      "\t\t\t\t'phoneNumber'\n",
      "\t\trd-multicanal-caip-prod.kibana.call_logs_ETL_TESTE\n",
      "\t\t\tColumns in 'call_logs_ETL_TESTE':\n",
      "\t\t\t\t'sessionId'\n",
      "\t\t\t\t'channel'\n",
      "\t\t\t\t'user'\n",
      "\t\t\t\t'brand'\n",
      "\t\t\t\t'transbordo'\n",
      "\t\t\t\t'avaliacao'\n",
      "\t\t\t\t'total_mensagens'\n",
      "\t\t\t\t'inicio_sessao_GMT_0'\n",
      "\t\t\t\t'fim_sessao_GMT_0'\n",
      "\t\t\t\t'inicio_sessao_GMT_BR'\n",
      "\t\t\t\t'fim_sessao_GMT_BR'\n",
      "\t\t\t\t'duracao_sessao'\n",
      "\t\t\t\t'usecasename'\n",
      "\t\t\t\t'currentstepname'\n",
      "\t\t\t\t'masterBotId'\n",
      "\t\t\t\t'masterBotName'\n",
      "\t\t\t\t'useCase'\n",
      "\t\t\t\t'data_br'\n",
      "\t\t\t\t'hora_br'\n",
      "\t\t\t\t'sk'\n",
      "\t\t\t\t'created'\n",
      "\t\t\t\t'phoneNumber'\n",
      "\t\trd-multicanal-caip-prod.kibana.call_logs_bkp_01FEV23\n",
      "\t\t\tColumns in 'call_logs_bkp_01FEV23':\n",
      "\t\t\t\t'sessionId'\n",
      "\t\t\t\t'channel'\n",
      "\t\t\t\t'user'\n",
      "\t\t\t\t'brand'\n",
      "\t\t\t\t'transbordo'\n",
      "\t\t\t\t'avaliacao'\n",
      "\t\t\t\t'total_mensagens'\n",
      "\t\t\t\t'inicio_sessao_GMT_0'\n",
      "\t\t\t\t'fim_sessao_GMT_0'\n",
      "\t\t\t\t'inicio_sessao_GMT_BR'\n",
      "\t\t\t\t'fim_sessao_GMT_BR'\n",
      "\t\t\t\t'duracao_sessao'\n",
      "\t\t\t\t'usecasename'\n",
      "\t\t\t\t'currentstepname'\n",
      "\t\t\t\t'masterBotId'\n",
      "\t\t\t\t'masterBotName'\n",
      "\t\t\t\t'useCase'\n",
      "\t\t\t\t'data_br'\n",
      "\t\t\t\t'hora_br'\n",
      "\t\t\t\t'sk'\n",
      "\t\t\t\t'created'\n",
      "\t\trd-multicanal-caip-prod.kibana.call_logs_bkp_13MAR23\n",
      "\t\t\tColumns in 'call_logs_bkp_13MAR23':\n",
      "\t\t\t\t'sessionId'\n",
      "\t\t\t\t'channel'\n",
      "\t\t\t\t'user'\n",
      "\t\t\t\t'brand'\n",
      "\t\t\t\t'transbordo'\n",
      "\t\t\t\t'avaliacao'\n",
      "\t\t\t\t'total_mensagens'\n",
      "\t\t\t\t'inicio_sessao_GMT_0'\n",
      "\t\t\t\t'fim_sessao_GMT_0'\n",
      "\t\t\t\t'inicio_sessao_GMT_BR'\n",
      "\t\t\t\t'fim_sessao_GMT_BR'\n",
      "\t\t\t\t'duracao_sessao'\n",
      "\t\t\t\t'usecasename'\n",
      "\t\t\t\t'currentstepname'\n",
      "\t\t\t\t'masterBotId'\n",
      "\t\t\t\t'masterBotName'\n",
      "\t\t\t\t'useCase'\n",
      "\t\t\t\t'data_br'\n",
      "\t\t\t\t'hora_br'\n",
      "\t\t\t\t'sk'\n",
      "\t\t\t\t'created'\n",
      "\t\trd-multicanal-caip-prod.kibana.call_logs_bkp_19ABR23\n",
      "\t\t\tColumns in 'call_logs_bkp_19ABR23':\n",
      "\t\t\t\t'sessionId'\n",
      "\t\t\t\t'channel'\n",
      "\t\t\t\t'user'\n",
      "\t\t\t\t'brand'\n",
      "\t\t\t\t'transbordo'\n",
      "\t\t\t\t'avaliacao'\n",
      "\t\t\t\t'total_mensagens'\n",
      "\t\t\t\t'inicio_sessao_GMT_0'\n",
      "\t\t\t\t'fim_sessao_GMT_0'\n",
      "\t\t\t\t'inicio_sessao_GMT_BR'\n",
      "\t\t\t\t'fim_sessao_GMT_BR'\n",
      "\t\t\t\t'duracao_sessao'\n",
      "\t\t\t\t'usecasename'\n",
      "\t\t\t\t'currentstepname'\n",
      "\t\t\t\t'masterBotId'\n",
      "\t\t\t\t'masterBotName'\n",
      "\t\t\t\t'useCase'\n",
      "\t\t\t\t'data_br'\n",
      "\t\t\t\t'hora_br'\n",
      "\t\t\t\t'sk'\n",
      "\t\t\t\t'created'\n",
      "\t\trd-multicanal-caip-prod.kibana.call_logs_debug\n",
      "\t\t\tColumns in 'call_logs_debug':\n",
      "\t\t\t\t'sessionId'\n",
      "\t\t\t\t'channel'\n",
      "\t\t\t\t'user'\n",
      "\t\t\t\t'brand'\n",
      "\t\t\t\t'transbordo'\n",
      "\t\t\t\t'avaliacao'\n",
      "\t\t\t\t'total_mensagens'\n",
      "\t\t\t\t'inicio_sessao_GMT_0'\n",
      "\t\t\t\t'fim_sessao_GMT_0'\n",
      "\t\t\t\t'inicio_sessao_GMT_BR'\n",
      "\t\t\t\t'fim_sessao_GMT_BR'\n",
      "\t\t\t\t'duracao_sessao'\n",
      "\t\t\t\t'usecasename'\n",
      "\t\t\t\t'currentstepname'\n",
      "\t\t\t\t'masterBotId'\n",
      "\t\t\t\t'masterBotName'\n",
      "\t\t\t\t'useCase'\n",
      "\t\t\t\t'data_br'\n",
      "\t\t\t\t'hora_br'\n",
      "\t\t\t\t'sk'\n",
      "\t\t\t\t'created'\n",
      "orders\n",
      "\tTables contained in 'orders':\n",
      "\t\trd-multicanal-caip-prod.orders.analytics\n",
      "\t\t\tColumns in 'analytics':\n",
      "\t\t\t\t'orderId'\n",
      "\t\t\t\t'statusId'\n",
      "\t\t\t\t'statusName'\n",
      "\t\t\t\t'trackingCompany'\n",
      "\t\t\t\t'trackingURL'\n",
      "\t\t\t\t'creationDate'\n",
      "\t\t\t\t'deadline'\n",
      "\t\t\t\t'deadline_date'\n",
      "\t\t\t\t'deadline_time'\n",
      "\t\t\t\t'currenttime'\n",
      "\t\t\t\t'userid'\n",
      "\t\t\t\t'islate'\n"
     ]
    }
   ],
   "source": [
    "datasets = client.list_datasets()\n",
    "print(\"Datasets in project '{}':\".format(client.project))\n",
    "for dataset in datasets:\n",
    "    print(dataset.dataset_id)\n",
    "    tables = client.list_tables(dataset)\n",
    "    print(\"\\tTables contained in '{}':\".format(dataset.dataset_id))\n",
    "    for table in tables:\n",
    "        print(\"\\t\\t{}.{}.{}\".format(table.project, table.dataset_id, table.table_id))\n",
    "        print(\"\\t\\t\\tColumns in '{}':\".format(table.table_id))\n",
    "        table_ref = client.dataset(dataset.dataset_id).table(table.table_id)\n",
    "        table_obj = client.get_table(table_ref)\n",
    "        for field in table_obj.schema:\n",
    "            print(\"\\t\\t\\t\\t'{}'\".format(field.name))"
   ]
  },
  {
   "attachments": {},
   "cell_type": "markdown",
   "metadata": {},
   "source": [
    "***"
   ]
  },
  {
   "attachments": {},
   "cell_type": "markdown",
   "metadata": {},
   "source": [
    "## Query"
   ]
  },
  {
   "attachments": {},
   "cell_type": "markdown",
   "metadata": {},
   "source": [
    "### Make query"
   ]
  },
  {
   "cell_type": "code",
   "execution_count": 7,
   "metadata": {},
   "outputs": [],
   "source": [
    "QUERY = (\n",
    "    'SELECT * FROM `caip.comment`'\n",
    "    'LIMIT 100')\n",
    "query_job = client.query(QUERY)  # API request"
   ]
  },
  {
   "attachments": {},
   "cell_type": "markdown",
   "metadata": {},
   "source": [
    "### get dataframe"
   ]
  },
  {
   "cell_type": "code",
   "execution_count": null,
   "metadata": {},
   "outputs": [],
   "source": [
    "df = query_job.to_dataframe()\n",
    "df.head()"
   ]
  },
  {
   "attachments": {},
   "cell_type": "markdown",
   "metadata": {},
   "source": [
    "### get rows from query result"
   ]
  },
  {
   "cell_type": "code",
   "execution_count": null,
   "metadata": {},
   "outputs": [],
   "source": [
    "rows = query_job.result()\n",
    "for row in rows:\n",
    "    print(row)"
   ]
  }
 ],
 "metadata": {
  "kernelspec": {
   "display_name": "Python 3",
   "language": "python",
   "name": "python3"
  },
  "language_info": {
   "codemirror_mode": {
    "name": "ipython",
    "version": 3
   },
   "file_extension": ".py",
   "mimetype": "text/x-python",
   "name": "python",
   "nbconvert_exporter": "python",
   "pygments_lexer": "ipython3",
   "version": "3.10.11"
  },
  "orig_nbformat": 4
 },
 "nbformat": 4,
 "nbformat_minor": 2
}
