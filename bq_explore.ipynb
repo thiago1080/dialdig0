{
 "cells": [
  {
   "attachments": {},
   "cell_type": "markdown",
   "metadata": {},
   "source": [
    "## Overture"
   ]
  },
  {
   "cell_type": "code",
   "execution_count": 89,
   "metadata": {},
   "outputs": [],
   "source": [
    "from google.cloud import bigquery\n",
    "from google.oauth2 import service_account\n",
    "import pandas as pd\n",
    "from tqdm import tqdm"
   ]
  },
  {
   "cell_type": "code",
   "execution_count": 2,
   "metadata": {},
   "outputs": [],
   "source": [
    "SERVICE_ACCOUNT_FILE = './config/local/rd-multicanal-caip-prod-0ec5b75f6a1b.json'"
   ]
  },
  {
   "cell_type": "code",
   "execution_count": 3,
   "metadata": {},
   "outputs": [],
   "source": [
    "credentials = service_account.Credentials.from_service_account_file( SERVICE_ACCOUNT_FILE)"
   ]
  },
  {
   "attachments": {},
   "cell_type": "markdown",
   "metadata": {},
   "source": [
    "## Connection"
   ]
  },
  {
   "cell_type": "code",
   "execution_count": 4,
   "metadata": {},
   "outputs": [],
   "source": [
    "client = bigquery.Client(credentials=credentials)"
   ]
  },
  {
   "attachments": {},
   "cell_type": "markdown",
   "metadata": {},
   "source": [
    "## Explore"
   ]
  },
  {
   "attachments": {},
   "cell_type": "markdown",
   "metadata": {},
   "source": [
    "### List Datasets"
   ]
  },
  {
   "cell_type": "code",
   "execution_count": 5,
   "metadata": {},
   "outputs": [
    {
     "name": "stdout",
     "output_type": "stream",
     "text": [
      "Datasets in project 'rd-multicanal-caip-prod':\n",
      "caip\n",
      "caip2\n",
      "kibana\n",
      "orders\n"
     ]
    }
   ],
   "source": [
    "datasets = client.list_datasets()\n",
    "\n",
    "print(\"Datasets in project '{}':\".format(client.project))\n",
    "for dataset in datasets:\n",
    "    print(dataset.dataset_id)"
   ]
  },
  {
   "attachments": {},
   "cell_type": "markdown",
   "metadata": {},
   "source": [
    "### List tables in dataset"
   ]
  },
  {
   "cell_type": "code",
   "execution_count": 6,
   "metadata": {},
   "outputs": [
    {
     "name": "stdout",
     "output_type": "stream",
     "text": [
      "\tTables contained in 'orders':\n",
      "\t\trd-multicanal-caip-prod.caip.comment\n",
      "\t\trd-multicanal-caip-prod.caip.feedback\n"
     ]
    }
   ],
   "source": [
    "tables = client.list_tables('caip')\n",
    "print(\"\\tTables contained in '{}':\".format(dataset.dataset_id))\n",
    "for table in tables:\n",
    "    print(\"\\t\\t{}.{}.{}\".format(table.project, table.dataset_id, table.table_id))"
   ]
  },
  {
   "attachments": {},
   "cell_type": "markdown",
   "metadata": {},
   "source": [
    "### List columns in a table"
   ]
  },
  {
   "cell_type": "code",
   "execution_count": 7,
   "metadata": {},
   "outputs": [
    {
     "name": "stdout",
     "output_type": "stream",
     "text": [
      "\t\t\tColumns in 'comment':\n",
      "\t\t\t\t'sk_comment'\n",
      "\t\t\t\t'sk_feedback'\n",
      "\t\t\t\t'comment'\n",
      "\t\t\t\t'created_ts'\n"
     ]
    }
   ],
   "source": [
    "dataset_id = 'caip'\n",
    "table_id = 'comment'\n",
    "table_ref = client.dataset(dataset_id).table(table_id)\n",
    "table_obj = client.get_table(table_ref)\n",
    "print(\"\\t\\t\\tColumns in '{}':\".format(table_id))\n",
    "for field in table_obj.schema:\n",
    "    print(\"\\t\\t\\t\\t'{}'\".format(field.name))"
   ]
  },
  {
   "attachments": {},
   "cell_type": "markdown",
   "metadata": {},
   "source": [
    "## Exp0"
   ]
  },
  {
   "attachments": {},
   "cell_type": "markdown",
   "metadata": {},
   "source": [
    "### save dict of dataframes with column types"
   ]
  },
  {
   "cell_type": "code",
   "execution_count": 51,
   "metadata": {},
   "outputs": [],
   "source": [
    "dtables = {}\n",
    "datasets = client.list_datasets()\n",
    "for dataset in datasets:\n",
    "    tables = client.list_tables(dataset)\n",
    "    for table in tables:\n",
    "        table_id = f'{dataset.dataset_id}.{table.table_id}'\n",
    "        dtables[table_id] = {}\n",
    "        table_ref = client.dataset(dataset.dataset_id).table(table.table_id)\n",
    "        table_obj = client.get_table(table_ref)\n",
    "        for field in table_obj.schema:\n",
    "            dtables[table_id][field.name] = field.field_type"
   ]
  },
  {
   "cell_type": "code",
   "execution_count": 52,
   "metadata": {},
   "outputs": [],
   "source": [
    "dftables = {}\n",
    "for table in dtables:\n",
    "    dftables[table] = pd.DataFrame.from_dict(dtables[table], orient='index', columns=['type'])"
   ]
  },
  {
   "attachments": {},
   "cell_type": "markdown",
   "metadata": {},
   "source": [
    "### write each df to a excel sheet inside an excel file"
   ]
  },
  {
   "cell_type": "code",
   "execution_count": 53,
   "metadata": {},
   "outputs": [],
   "source": [
    "\n",
    "writer = pd.ExcelWriter('rd-multicanal-caip-prod_column_types.xlsx',engine='xlsxwriter')   \n",
    "for table_id, table in dftables.items():\n",
    "    table.to_excel(writer, sheet_name=table_id)\n",
    "writer.close()"
   ]
  },
  {
   "attachments": {},
   "cell_type": "markdown",
   "metadata": {},
   "source": [
    "***"
   ]
  },
  {
   "attachments": {},
   "cell_type": "markdown",
   "metadata": {},
   "source": [
    "### count rows in all tables"
   ]
  },
  {
   "cell_type": "code",
   "execution_count": 38,
   "metadata": {},
   "outputs": [
    {
     "name": "stdout",
     "output_type": "stream",
     "text": [
      "Datasets in project 'rd-multicanal-caip-prod':\n"
     ]
    }
   ],
   "source": [
    "d_len_tables = {}\n",
    "datasets = client.list_datasets()\n",
    "for dataset in datasets:\n",
    "    tables = client.list_tables(dataset)\n",
    "    d_len_tables[dataset.dataset_id] = {}\n",
    "    for table in tables:\n",
    "        table_id = f'{dataset.dataset_id}.{table.table_id}'\n",
    "        QUERY = (\n",
    "            \n",
    "        )\n",
    "        d_len_tables[dataset.dataset_id][table.table_id] = client.query(f'SELECT count(*) FROM {table_id}').to_dataframe().values[0][0]  # API request"
   ]
  },
  {
   "cell_type": "code",
   "execution_count": 39,
   "metadata": {},
   "outputs": [
    {
     "data": {
      "text/plain": [
       "244"
      ]
     },
     "execution_count": 39,
     "metadata": {},
     "output_type": "execute_result"
    }
   ],
   "source": [
    "d_len_tables['caip']['comment']"
   ]
  },
  {
   "cell_type": "code",
   "execution_count": 44,
   "metadata": {},
   "outputs": [],
   "source": [
    "df_len_tables = {}\n",
    "for dataset_id in d_len_tables.keys():\n",
    "    df_len_tables[dataset_id] = pd.DataFrame.from_dict(d_len_tables[dataset_id], orient='index', columns=['n_rows'])"
   ]
  },
  {
   "cell_type": "code",
   "execution_count": 45,
   "metadata": {},
   "outputs": [
    {
     "data": {
      "text/html": [
       "<div>\n",
       "<style scoped>\n",
       "    .dataframe tbody tr th:only-of-type {\n",
       "        vertical-align: middle;\n",
       "    }\n",
       "\n",
       "    .dataframe tbody tr th {\n",
       "        vertical-align: top;\n",
       "    }\n",
       "\n",
       "    .dataframe thead th {\n",
       "        text-align: right;\n",
       "    }\n",
       "</style>\n",
       "<table border=\"1\" class=\"dataframe\">\n",
       "  <thead>\n",
       "    <tr style=\"text-align: right;\">\n",
       "      <th></th>\n",
       "      <th>n_rows</th>\n",
       "    </tr>\n",
       "  </thead>\n",
       "  <tbody>\n",
       "    <tr>\n",
       "      <th>comment</th>\n",
       "      <td>244</td>\n",
       "    </tr>\n",
       "    <tr>\n",
       "      <th>feedback</th>\n",
       "      <td>368</td>\n",
       "    </tr>\n",
       "  </tbody>\n",
       "</table>\n",
       "</div>"
      ],
      "text/plain": [
       "          n_rows\n",
       "comment      244\n",
       "feedback     368"
      ]
     },
     "execution_count": 45,
     "metadata": {},
     "output_type": "execute_result"
    }
   ],
   "source": [
    "df_len_tables['caip']"
   ]
  },
  {
   "cell_type": "code",
   "execution_count": null,
   "metadata": {},
   "outputs": [],
   "source": [
    "\n",
    "writer = pd.ExcelWriter('rd-multicanal-caip-prod_nrows.xlsx',engine='xlsxwriter')   \n",
    "for dataset_id, tables_count in df_len_tables.items():\n",
    "    tables_count.to_excel(writer, sheet_name=dataset_id)\n",
    "writer.close()"
   ]
  },
  {
   "attachments": {},
   "cell_type": "markdown",
   "metadata": {},
   "source": [
    "### Get all timestamp columns"
   ]
  },
  {
   "cell_type": "code",
   "execution_count": 60,
   "metadata": {},
   "outputs": [],
   "source": [
    "time_cols = {}\n",
    "datasets = client.list_datasets()\n",
    "for dataset in datasets:\n",
    "    tables = client.list_tables(dataset)\n",
    "    for table in tables:\n",
    "        table_id = f'{dataset.dataset_id}.{table.table_id}'\n",
    "        time_cols[table_id] = []\n",
    "        table_ref = client.dataset(dataset.dataset_id).table(table.table_id)\n",
    "        table_obj = client.get_table(table_ref)\n",
    "        for field in table_obj.schema:\n",
    "            if field.field_type == 'TIMESTAMP':\n",
    "                time_cols[table_id].append(field.name)"
   ]
  },
  {
   "cell_type": "code",
   "execution_count": 61,
   "metadata": {},
   "outputs": [
    {
     "data": {
      "text/plain": [
       "{'caip.comment': ['created_ts'],\n",
       " 'caip.feedback': ['created_ts'],\n",
       " 'caip2.comment': ['created_ts'],\n",
       " 'caip2.feedback': ['created_ts'],\n",
       " 'caip2.feedback19JAN23': ['created_ts'],\n",
       " 'kibana.call_logs': ['inicio_sessao_GMT_0',\n",
       "  'fim_sessao_GMT_0',\n",
       "  'inicio_sessao_GMT_BR',\n",
       "  'fim_sessao_GMT_BR',\n",
       "  'data_br',\n",
       "  'created'],\n",
       " 'kibana.call_logs_ETL_TESTE': ['inicio_sessao_GMT_0',\n",
       "  'fim_sessao_GMT_0',\n",
       "  'inicio_sessao_GMT_BR',\n",
       "  'fim_sessao_GMT_BR',\n",
       "  'data_br',\n",
       "  'created'],\n",
       " 'kibana.call_logs_bkp_01FEV23': ['inicio_sessao_GMT_0',\n",
       "  'fim_sessao_GMT_0',\n",
       "  'inicio_sessao_GMT_BR',\n",
       "  'fim_sessao_GMT_BR',\n",
       "  'data_br',\n",
       "  'created'],\n",
       " 'kibana.call_logs_bkp_13MAR23': ['inicio_sessao_GMT_0',\n",
       "  'fim_sessao_GMT_0',\n",
       "  'inicio_sessao_GMT_BR',\n",
       "  'fim_sessao_GMT_BR',\n",
       "  'data_br',\n",
       "  'created'],\n",
       " 'kibana.call_logs_bkp_19ABR23': ['inicio_sessao_GMT_0',\n",
       "  'fim_sessao_GMT_0',\n",
       "  'inicio_sessao_GMT_BR',\n",
       "  'fim_sessao_GMT_BR',\n",
       "  'data_br',\n",
       "  'created'],\n",
       " 'kibana.call_logs_debug': ['inicio_sessao_GMT_0',\n",
       "  'fim_sessao_GMT_0',\n",
       "  'inicio_sessao_GMT_BR',\n",
       "  'fim_sessao_GMT_BR',\n",
       "  'data_br',\n",
       "  'created'],\n",
       " 'orders.analytics': []}"
      ]
     },
     "execution_count": 61,
     "metadata": {},
     "output_type": "execute_result"
    }
   ],
   "source": [
    "time_cols"
   ]
  },
  {
   "attachments": {},
   "cell_type": "markdown",
   "metadata": {},
   "source": [
    "### get date range for each timestamp columns as list of timestamp objects"
   ]
  },
  {
   "cell_type": "code",
   "execution_count": 93,
   "metadata": {},
   "outputs": [
    {
     "name": "stderr",
     "output_type": "stream",
     "text": [
      "100%|██████████| 12/12 [01:05<00:00,  5.48s/it]\n"
     ]
    }
   ],
   "source": [
    "list_time_ranges = {}\n",
    "for table_id, table in tqdm(time_cols.items()):\n",
    "    list_time_ranges[table_id] = {}\n",
    "    for field_name in table:\n",
    "        list_time_ranges[table_id][field_name] = (\n",
    "            list(client.query(f'SELECT min({field_name}), max({field_name}) FROM {table_id}').to_dataframe().values[0]))"
   ]
  },
  {
   "attachments": {},
   "cell_type": "markdown",
   "metadata": {},
   "source": [
    "### convert timestamps to strings"
   ]
  },
  {
   "cell_type": "code",
   "execution_count": null,
   "metadata": {},
   "outputs": [],
   "source": [
    "str_time_ranges = {}\n",
    "for k,v in time_ranges.items():\n",
    "    str_time_ranges[k] = {}\n",
    "    for k1,v1 in v.items():\n",
    "        str_time_ranges[k][k1] = [str(i) for i in v1]\n",
    "#str_time_ranges = {k:i.strftime('%Y-%m-%d %H:%M:%S') for i in time_ranges['caip.comment']['created_at']]"
   ]
  },
  {
   "attachments": {},
   "cell_type": "markdown",
   "metadata": {},
   "source": [
    "### get date range for each timestamp columns as dataframes"
   ]
  },
  {
   "cell_type": "code",
   "execution_count": 140,
   "metadata": {},
   "outputs": [
    {
     "name": "stderr",
     "output_type": "stream",
     "text": [
      "100%|██████████| 12/12 [00:45<00:00,  3.81s/it]\n"
     ]
    }
   ],
   "source": [
    "df_time_ranges = {}\n",
    "for table_id, table in tqdm(time_cols.items()):\n",
    "    df = pd.DataFrame()\n",
    "    for field_name in table:\n",
    "        df_field = client.query(f'SELECT min({field_name}) as min_date, max({field_name}) as max_date FROM {table_id}').to_dataframe()\n",
    "        df_field.index = [field_name]\n",
    "        df = pd.concat((df, df_field))\n",
    "    df_time_ranges[table_id]= df \n",
    "        "
   ]
  },
  {
   "attachments": {},
   "cell_type": "markdown",
   "metadata": {},
   "source": [
    "### Convert timestamp datezone to string"
   ]
  },
  {
   "cell_type": "code",
   "execution_count": 155,
   "metadata": {},
   "outputs": [
    {
     "name": "stdout",
     "output_type": "stream",
     "text": [
      "'str' object has no attribute 'strftime'\n",
      "'str' object has no attribute 'strftime'\n",
      "'str' object has no attribute 'strftime'\n",
      "'str' object has no attribute 'strftime'\n",
      "'str' object has no attribute 'strftime'\n",
      "'str' object has no attribute 'strftime'\n",
      "'str' object has no attribute 'strftime'\n",
      "'str' object has no attribute 'strftime'\n",
      "'str' object has no attribute 'strftime'\n",
      "'str' object has no attribute 'strftime'\n",
      "'str' object has no attribute 'strftime'\n"
     ]
    }
   ],
   "source": [
    "for k,v in df_time_ranges.items():\n",
    "    #print(k, v)\n",
    "    if len(v)>0:\n",
    "        try:\n",
    "            df_time_ranges[k]['min_date'] = v['min_date'].apply(lambda x:x.strftime('%Y-%m-%d %H:%M:%S'))\n",
    "            df_time_ranges[k]['max_date'] = v['max_date'].apply(lambda x:x.strftime('%Y-%m-%d %H:%M:%S'))\n",
    "        except Exception as e:\n",
    "            print(e)\n",
    "            "
   ]
  },
  {
   "cell_type": "code",
   "execution_count": null,
   "metadata": {},
   "outputs": [],
   "source": [
    "df['caip.comment']"
   ]
  },
  {
   "cell_type": "code",
   "execution_count": 158,
   "metadata": {},
   "outputs": [
    {
     "name": "stdout",
     "output_type": "stream",
     "text": [
      "caip.comment\n"
     ]
    },
    {
     "ename": "ValueError",
     "evalue": "Excel does not support datetimes with timezones. Please ensure that datetimes are timezone unaware before writing to Excel.",
     "output_type": "error",
     "traceback": [
      "\u001b[0;31m---------------------------------------------------------------------------\u001b[0m",
      "\u001b[0;31mValueError\u001b[0m                                Traceback (most recent call last)",
      "Cell \u001b[0;32mIn[158], line 4\u001b[0m\n\u001b[1;32m      2\u001b[0m \u001b[39mfor\u001b[39;00m table_id, table_dates \u001b[39min\u001b[39;00m df_time_ranges\u001b[39m.\u001b[39mitems():\n\u001b[1;32m      3\u001b[0m     \u001b[39mprint\u001b[39m(table_id)\n\u001b[0;32m----> 4\u001b[0m     table_dates\u001b[39m.\u001b[39;49mto_excel(writer, sheet_name\u001b[39m=\u001b[39;49mtable_id)\n\u001b[1;32m      5\u001b[0m writer\u001b[39m.\u001b[39mclose()\n",
      "File \u001b[0;32m~/.conda/envs/gpt/lib/python3.10/site-packages/pandas/core/generic.py:2252\u001b[0m, in \u001b[0;36mNDFrame.to_excel\u001b[0;34m(self, excel_writer, sheet_name, na_rep, float_format, columns, header, index, index_label, startrow, startcol, engine, merge_cells, inf_rep, freeze_panes, storage_options)\u001b[0m\n\u001b[1;32m   2239\u001b[0m \u001b[39mfrom\u001b[39;00m \u001b[39mpandas\u001b[39;00m\u001b[39m.\u001b[39;00m\u001b[39mio\u001b[39;00m\u001b[39m.\u001b[39;00m\u001b[39mformats\u001b[39;00m\u001b[39m.\u001b[39;00m\u001b[39mexcel\u001b[39;00m \u001b[39mimport\u001b[39;00m ExcelFormatter\n\u001b[1;32m   2241\u001b[0m formatter \u001b[39m=\u001b[39m ExcelFormatter(\n\u001b[1;32m   2242\u001b[0m     df,\n\u001b[1;32m   2243\u001b[0m     na_rep\u001b[39m=\u001b[39mna_rep,\n\u001b[0;32m   (...)\u001b[0m\n\u001b[1;32m   2250\u001b[0m     inf_rep\u001b[39m=\u001b[39minf_rep,\n\u001b[1;32m   2251\u001b[0m )\n\u001b[0;32m-> 2252\u001b[0m formatter\u001b[39m.\u001b[39;49mwrite(\n\u001b[1;32m   2253\u001b[0m     excel_writer,\n\u001b[1;32m   2254\u001b[0m     sheet_name\u001b[39m=\u001b[39;49msheet_name,\n\u001b[1;32m   2255\u001b[0m     startrow\u001b[39m=\u001b[39;49mstartrow,\n\u001b[1;32m   2256\u001b[0m     startcol\u001b[39m=\u001b[39;49mstartcol,\n\u001b[1;32m   2257\u001b[0m     freeze_panes\u001b[39m=\u001b[39;49mfreeze_panes,\n\u001b[1;32m   2258\u001b[0m     engine\u001b[39m=\u001b[39;49mengine,\n\u001b[1;32m   2259\u001b[0m     storage_options\u001b[39m=\u001b[39;49mstorage_options,\n\u001b[1;32m   2260\u001b[0m )\n",
      "File \u001b[0;32m~/.conda/envs/gpt/lib/python3.10/site-packages/pandas/io/formats/excel.py:940\u001b[0m, in \u001b[0;36mExcelFormatter.write\u001b[0;34m(self, writer, sheet_name, startrow, startcol, freeze_panes, engine, storage_options)\u001b[0m\n\u001b[1;32m    937\u001b[0m     need_save \u001b[39m=\u001b[39m \u001b[39mTrue\u001b[39;00m\n\u001b[1;32m    939\u001b[0m \u001b[39mtry\u001b[39;00m:\n\u001b[0;32m--> 940\u001b[0m     writer\u001b[39m.\u001b[39;49m_write_cells(\n\u001b[1;32m    941\u001b[0m         formatted_cells,\n\u001b[1;32m    942\u001b[0m         sheet_name,\n\u001b[1;32m    943\u001b[0m         startrow\u001b[39m=\u001b[39;49mstartrow,\n\u001b[1;32m    944\u001b[0m         startcol\u001b[39m=\u001b[39;49mstartcol,\n\u001b[1;32m    945\u001b[0m         freeze_panes\u001b[39m=\u001b[39;49mfreeze_panes,\n\u001b[1;32m    946\u001b[0m     )\n\u001b[1;32m    947\u001b[0m \u001b[39mfinally\u001b[39;00m:\n\u001b[1;32m    948\u001b[0m     \u001b[39m# make sure to close opened file handles\u001b[39;00m\n\u001b[1;32m    949\u001b[0m     \u001b[39mif\u001b[39;00m need_save:\n",
      "File \u001b[0;32m~/.conda/envs/gpt/lib/python3.10/site-packages/pandas/io/excel/_xlsxwriter.py:252\u001b[0m, in \u001b[0;36mXlsxWriter._write_cells\u001b[0;34m(self, cells, sheet_name, startrow, startcol, freeze_panes)\u001b[0m\n\u001b[1;32m    249\u001b[0m \u001b[39mif\u001b[39;00m validate_freeze_panes(freeze_panes):\n\u001b[1;32m    250\u001b[0m     wks\u001b[39m.\u001b[39mfreeze_panes(\u001b[39m*\u001b[39m(freeze_panes))\n\u001b[0;32m--> 252\u001b[0m \u001b[39mfor\u001b[39;00m cell \u001b[39min\u001b[39;00m cells:\n\u001b[1;32m    253\u001b[0m     val, fmt \u001b[39m=\u001b[39m \u001b[39mself\u001b[39m\u001b[39m.\u001b[39m_value_with_fmt(cell\u001b[39m.\u001b[39mval)\n\u001b[1;32m    255\u001b[0m     stylekey \u001b[39m=\u001b[39m json\u001b[39m.\u001b[39mdumps(cell\u001b[39m.\u001b[39mstyle)\n",
      "File \u001b[0;32m~/.conda/envs/gpt/lib/python3.10/site-packages/pandas/io/formats/excel.py:884\u001b[0m, in \u001b[0;36mExcelFormatter.get_formatted_cells\u001b[0;34m(self)\u001b[0m\n\u001b[1;32m    882\u001b[0m \u001b[39mdef\u001b[39;00m \u001b[39mget_formatted_cells\u001b[39m(\u001b[39mself\u001b[39m) \u001b[39m-\u001b[39m\u001b[39m>\u001b[39m Iterable[ExcelCell]:\n\u001b[1;32m    883\u001b[0m     \u001b[39mfor\u001b[39;00m cell \u001b[39min\u001b[39;00m itertools\u001b[39m.\u001b[39mchain(\u001b[39mself\u001b[39m\u001b[39m.\u001b[39m_format_header(), \u001b[39mself\u001b[39m\u001b[39m.\u001b[39m_format_body()):\n\u001b[0;32m--> 884\u001b[0m         cell\u001b[39m.\u001b[39mval \u001b[39m=\u001b[39m \u001b[39mself\u001b[39;49m\u001b[39m.\u001b[39;49m_format_value(cell\u001b[39m.\u001b[39;49mval)\n\u001b[1;32m    885\u001b[0m         \u001b[39myield\u001b[39;00m cell\n",
      "File \u001b[0;32m~/.conda/envs/gpt/lib/python3.10/site-packages/pandas/io/formats/excel.py:601\u001b[0m, in \u001b[0;36mExcelFormatter._format_value\u001b[0;34m(self, val)\u001b[0m\n\u001b[1;32m    599\u001b[0m         val \u001b[39m=\u001b[39m \u001b[39mfloat\u001b[39m(\u001b[39mself\u001b[39m\u001b[39m.\u001b[39mfloat_format \u001b[39m%\u001b[39m val)\n\u001b[1;32m    600\u001b[0m \u001b[39mif\u001b[39;00m \u001b[39mgetattr\u001b[39m(val, \u001b[39m\"\u001b[39m\u001b[39mtzinfo\u001b[39m\u001b[39m\"\u001b[39m, \u001b[39mNone\u001b[39;00m) \u001b[39mis\u001b[39;00m \u001b[39mnot\u001b[39;00m \u001b[39mNone\u001b[39;00m:\n\u001b[0;32m--> 601\u001b[0m     \u001b[39mraise\u001b[39;00m \u001b[39mValueError\u001b[39;00m(\n\u001b[1;32m    602\u001b[0m         \u001b[39m\"\u001b[39m\u001b[39mExcel does not support datetimes with \u001b[39m\u001b[39m\"\u001b[39m\n\u001b[1;32m    603\u001b[0m         \u001b[39m\"\u001b[39m\u001b[39mtimezones. Please ensure that datetimes \u001b[39m\u001b[39m\"\u001b[39m\n\u001b[1;32m    604\u001b[0m         \u001b[39m\"\u001b[39m\u001b[39mare timezone unaware before writing to Excel.\u001b[39m\u001b[39m\"\u001b[39m\n\u001b[1;32m    605\u001b[0m     )\n\u001b[1;32m    606\u001b[0m \u001b[39mreturn\u001b[39;00m val\n",
      "\u001b[0;31mValueError\u001b[0m: Excel does not support datetimes with timezones. Please ensure that datetimes are timezone unaware before writing to Excel."
     ]
    }
   ],
   "source": [
    "writer = pd.ExcelWriter('rd-multicanal-caip-prod_dates.xlsx',engine='xlsxwriter')   \n",
    "for table_id, table_dates in df_time_ranges.items():\n",
    "    print(table_id)\n",
    "    table_dates.to_excel(writer, sheet_name=table_id)\n",
    "writer.close()"
   ]
  },
  {
   "attachments": {},
   "cell_type": "markdown",
   "metadata": {},
   "source": [
    "***"
   ]
  },
  {
   "attachments": {},
   "cell_type": "markdown",
   "metadata": {},
   "source": [
    "### Query"
   ]
  },
  {
   "attachments": {},
   "cell_type": "markdown",
   "metadata": {},
   "source": [
    "### Make query"
   ]
  },
  {
   "cell_type": "code",
   "execution_count": 9,
   "metadata": {},
   "outputs": [],
   "source": [
    "QUERY = (\n",
    "    'SELECT * FROM `caip.comment`'\n",
    "    'LIMIT 100')\n",
    "query_job = client.query(QUERY)  # API request"
   ]
  },
  {
   "attachments": {},
   "cell_type": "markdown",
   "metadata": {},
   "source": [
    "### get dataframe"
   ]
  },
  {
   "cell_type": "code",
   "execution_count": 10,
   "metadata": {},
   "outputs": [
    {
     "data": {
      "text/html": [
       "<div>\n",
       "<style scoped>\n",
       "    .dataframe tbody tr th:only-of-type {\n",
       "        vertical-align: middle;\n",
       "    }\n",
       "\n",
       "    .dataframe tbody tr th {\n",
       "        vertical-align: top;\n",
       "    }\n",
       "\n",
       "    .dataframe thead th {\n",
       "        text-align: right;\n",
       "    }\n",
       "</style>\n",
       "<table border=\"1\" class=\"dataframe\">\n",
       "  <thead>\n",
       "    <tr style=\"text-align: right;\">\n",
       "      <th></th>\n",
       "      <th>sk_comment</th>\n",
       "      <th>sk_feedback</th>\n",
       "      <th>comment</th>\n",
       "      <th>created_ts</th>\n",
       "    </tr>\n",
       "  </thead>\n",
       "  <tbody>\n",
       "    <tr>\n",
       "      <th>0</th>\n",
       "      <td>f6641b93-bbad-4346-b740-a7851b388a47</td>\n",
       "      <td>7e6da096-133e-4797-a3ba-c732d9164652</td>\n",
       "      <td>.</td>\n",
       "      <td>2022-07-27 23:12:24.317000+00:00</td>\n",
       "    </tr>\n",
       "    <tr>\n",
       "      <th>1</th>\n",
       "      <td>39dcfeb1-5dc6-4657-aaa7-98da0ec8571c</td>\n",
       "      <td>f0127695-3fde-499a-8d1c-a78b09e70d6c</td>\n",
       "      <td>4</td>\n",
       "      <td>2022-06-08 15:26:17.861000+00:00</td>\n",
       "    </tr>\n",
       "    <tr>\n",
       "      <th>2</th>\n",
       "      <td>95609881-7521-4171-9f9c-ae754dfc3db4</td>\n",
       "      <td>f8b8a295-298a-4e01-ae16-bb4e266fea80</td>\n",
       "      <td>A</td>\n",
       "      <td>2022-07-28 15:51:06.667000+00:00</td>\n",
       "    </tr>\n",
       "    <tr>\n",
       "      <th>3</th>\n",
       "      <td>a1b46379-9d67-4b39-ba68-0bde208b77ff</td>\n",
       "      <td>46581203-f334-48ae-974b-6a0c530fe075</td>\n",
       "      <td>Oi</td>\n",
       "      <td>2022-07-26 02:14:08.516000+00:00</td>\n",
       "    </tr>\n",
       "    <tr>\n",
       "      <th>4</th>\n",
       "      <td>dc66e0a5-5c5f-4426-8088-c6661d1b065b</td>\n",
       "      <td>14c0cb20-5df8-42e7-8834-159e7a253599</td>\n",
       "      <td>oii</td>\n",
       "      <td>2022-07-28 18:44:24.551000+00:00</td>\n",
       "    </tr>\n",
       "  </tbody>\n",
       "</table>\n",
       "</div>"
      ],
      "text/plain": [
       "                             sk_comment                           sk_feedback  \\\n",
       "0  f6641b93-bbad-4346-b740-a7851b388a47  7e6da096-133e-4797-a3ba-c732d9164652   \n",
       "1  39dcfeb1-5dc6-4657-aaa7-98da0ec8571c  f0127695-3fde-499a-8d1c-a78b09e70d6c   \n",
       "2  95609881-7521-4171-9f9c-ae754dfc3db4  f8b8a295-298a-4e01-ae16-bb4e266fea80   \n",
       "3  a1b46379-9d67-4b39-ba68-0bde208b77ff  46581203-f334-48ae-974b-6a0c530fe075   \n",
       "4  dc66e0a5-5c5f-4426-8088-c6661d1b065b  14c0cb20-5df8-42e7-8834-159e7a253599   \n",
       "\n",
       "  comment                       created_ts  \n",
       "0       . 2022-07-27 23:12:24.317000+00:00  \n",
       "1       4 2022-06-08 15:26:17.861000+00:00  \n",
       "2       A 2022-07-28 15:51:06.667000+00:00  \n",
       "3      Oi 2022-07-26 02:14:08.516000+00:00  \n",
       "4     oii 2022-07-28 18:44:24.551000+00:00  "
      ]
     },
     "execution_count": 10,
     "metadata": {},
     "output_type": "execute_result"
    }
   ],
   "source": [
    "df = query_job.to_dataframe()\n",
    "df.head()"
   ]
  },
  {
   "attachments": {},
   "cell_type": "markdown",
   "metadata": {},
   "source": [
    "### get rows from query result"
   ]
  },
  {
   "cell_type": "code",
   "execution_count": 11,
   "metadata": {},
   "outputs": [
    {
     "name": "stdout",
     "output_type": "stream",
     "text": [
      "Row(('f6641b93-bbad-4346-b740-a7851b388a47', '7e6da096-133e-4797-a3ba-c732d9164652', '.', datetime.datetime(2022, 7, 27, 23, 12, 24, 317000, tzinfo=datetime.timezone.utc)), {'sk_comment': 0, 'sk_feedback': 1, 'comment': 2, 'created_ts': 3})\n",
      "Row(('39dcfeb1-5dc6-4657-aaa7-98da0ec8571c', 'f0127695-3fde-499a-8d1c-a78b09e70d6c', '4', datetime.datetime(2022, 6, 8, 15, 26, 17, 861000, tzinfo=datetime.timezone.utc)), {'sk_comment': 0, 'sk_feedback': 1, 'comment': 2, 'created_ts': 3})\n",
      "Row(('95609881-7521-4171-9f9c-ae754dfc3db4', 'f8b8a295-298a-4e01-ae16-bb4e266fea80', 'A', datetime.datetime(2022, 7, 28, 15, 51, 6, 667000, tzinfo=datetime.timezone.utc)), {'sk_comment': 0, 'sk_feedback': 1, 'comment': 2, 'created_ts': 3})\n",
      "Row(('a1b46379-9d67-4b39-ba68-0bde208b77ff', '46581203-f334-48ae-974b-6a0c530fe075', 'Oi', datetime.datetime(2022, 7, 26, 2, 14, 8, 516000, tzinfo=datetime.timezone.utc)), {'sk_comment': 0, 'sk_feedback': 1, 'comment': 2, 'created_ts': 3})\n",
      "Row(('dc66e0a5-5c5f-4426-8088-c6661d1b065b', '14c0cb20-5df8-42e7-8834-159e7a253599', 'oii', datetime.datetime(2022, 7, 28, 18, 44, 24, 551000, tzinfo=datetime.timezone.utc)), {'sk_comment': 0, 'sk_feedback': 1, 'comment': 2, 'created_ts': 3})\n",
      "Row(('e9a8ba92-f295-4ee1-bcbe-24ccf7e4e510', '031ca74b-62cd-4e22-98ad-799407275713', 'Nada', datetime.datetime(2022, 7, 28, 20, 15, 28, 423000, tzinfo=datetime.timezone.utc)), {'sk_comment': 0, 'sk_feedback': 1, 'comment': 2, 'created_ts': 3})\n",
      "Row(('c10b48d6-1f5d-48f7-9b8e-6e67b9619b7a', 'f6ff7df7-cff2-42d0-808c-c6d227fd9e8c', 'P tig', datetime.datetime(2022, 7, 27, 18, 49, 58, 144000, tzinfo=datetime.timezone.utc)), {'sk_comment': 0, 'sk_feedback': 1, 'comment': 2, 'created_ts': 3})\n",
      "Row(('7d554c45-42ba-43ba-a498-c22ac2d5a442', '8efacaff-842b-4236-8cea-d71d8f9d29fb', 'gostei', datetime.datetime(2022, 6, 3, 19, 48, 38, 685000, tzinfo=datetime.timezone.utc)), {'sk_comment': 0, 'sk_feedback': 1, 'comment': 2, 'created_ts': 3})\n",
      "Row(('7723b1a0-70fd-4293-bfe6-6c653cdcc5d7', 'cbe391d4-45e3-4ef3-ab71-317eecae2268', 'gostei', datetime.datetime(2022, 7, 14, 13, 53, 39, 892000, tzinfo=datetime.timezone.utc)), {'sk_comment': 0, 'sk_feedback': 1, 'comment': 2, 'created_ts': 3})\n",
      "Row(('053d379c-6e60-40ce-a11d-ec027ee62bb9', '53e21d7d-f580-4a23-866c-97fc275852b6', 'Nao sei', datetime.datetime(2022, 5, 9, 18, 53, 42, 352000, tzinfo=datetime.timezone.utc)), {'sk_comment': 0, 'sk_feedback': 1, 'comment': 2, 'created_ts': 3})\n",
      "Row(('aca90616-98eb-4d9c-8788-3e6fe857161f', 'd0fb38a8-fb2a-4cfb-8088-7ee22987c4e3', 'Rapidez', datetime.datetime(2022, 7, 25, 21, 27, 9, 914000, tzinfo=datetime.timezone.utc)), {'sk_comment': 0, 'sk_feedback': 1, 'comment': 2, 'created_ts': 3})\n",
      "Row(('3d8be0d5-30eb-401c-8e96-22c6c9ec2502', '719cf1da-c705-4df3-96e7-550f394ecae3', 'Rapidez', datetime.datetime(2022, 7, 25, 22, 44, 16, 723000, tzinfo=datetime.timezone.utc)), {'sk_comment': 0, 'sk_feedback': 1, 'comment': 2, 'created_ts': 3})\n",
      "Row(('3367fc8c-fe75-44f1-b72b-6262814f5790', 'e3f96a95-0191-4721-a499-64492521df3e', 'Rapidez', datetime.datetime(2022, 7, 26, 21, 33, 14, 732000, tzinfo=datetime.timezone.utc)), {'sk_comment': 0, 'sk_feedback': 1, 'comment': 2, 'created_ts': 3})\n",
      "Row(('20a99dec-94c0-423b-8b2b-a02c21b4f8fc', '9f11c80c-9e19-4f94-9fb1-9c14719b2dce', 'Rapidez', datetime.datetime(2022, 7, 26, 4, 20, 29, 397000, tzinfo=datetime.timezone.utc)), {'sk_comment': 0, 'sk_feedback': 1, 'comment': 2, 'created_ts': 3})\n",
      "Row(('7c657e83-f955-4077-8e7a-32b8134c8851', '18f43a20-a228-42ba-a44c-3eaf20671a07', 'Rapidez', datetime.datetime(2022, 7, 26, 1, 39, 48, 819000, tzinfo=datetime.timezone.utc)), {'sk_comment': 0, 'sk_feedback': 1, 'comment': 2, 'created_ts': 3})\n",
      "Row(('e2bcc8f1-84f1-47bc-9a0e-2d8e60b2a2ce', '2a935dbe-998a-44b7-a4de-ae36976d2bef', 'Rapidez', datetime.datetime(2022, 7, 26, 15, 26, 50, 238000, tzinfo=datetime.timezone.utc)), {'sk_comment': 0, 'sk_feedback': 1, 'comment': 2, 'created_ts': 3})\n",
      "Row(('a3065727-1c47-4e1a-ad7c-6b706b846d71', '98e215a5-fdcb-4c0b-b33c-ca45f69c9775', 'Rapidez', datetime.datetime(2022, 7, 27, 21, 45, 48, 529000, tzinfo=datetime.timezone.utc)), {'sk_comment': 0, 'sk_feedback': 1, 'comment': 2, 'created_ts': 3})\n",
      "Row(('4a44aff6-6c04-42b7-8f1a-a477ea65df26', '9233ec34-bab3-44b9-ab9b-5f69c3f0d4ae', 'foi bom', datetime.datetime(2022, 7, 27, 12, 18, 1, 19000, tzinfo=datetime.timezone.utc)), {'sk_comment': 0, 'sk_feedback': 1, 'comment': 2, 'created_ts': 3})\n",
      "Row(('69551054-1f8b-4c29-b063-97af6ecb3212', '62fae23f-a142-4bc3-a42a-47169f54e509', 'rapidez', datetime.datetime(2022, 7, 26, 13, 52, 38, 534000, tzinfo=datetime.timezone.utc)), {'sk_comment': 0, 'sk_feedback': 1, 'comment': 2, 'created_ts': 3})\n",
      "Row(('67e33397-4bb5-4881-8358-e82df71bc170', 'e1c911bf-ba9a-4f7b-b6ac-3ea262997ed3', 'Presteza', datetime.datetime(2022, 7, 27, 0, 59, 59, 521000, tzinfo=datetime.timezone.utc)), {'sk_comment': 0, 'sk_feedback': 1, 'comment': 2, 'created_ts': 3})\n",
      "Row(('73c00887-18ee-4fc9-a15a-db18fcd30392', 'b8971f14-350a-4fa0-82e7-104cd57e3208', 'Ra o ido', datetime.datetime(2022, 7, 27, 13, 16, 42, 224000, tzinfo=datetime.timezone.utc)), {'sk_comment': 0, 'sk_feedback': 1, 'comment': 2, 'created_ts': 3})\n",
      "Row(('f0700c8d-4cc4-4d1e-ae48-5febdb62847b', 'ab3e156d-7aab-4e4c-a2c9-cb8fee9207e8', 'anwdinen', datetime.datetime(2022, 6, 28, 14, 51, 54, 39000, tzinfo=datetime.timezone.utc)), {'sk_comment': 0, 'sk_feedback': 1, 'comment': 2, 'created_ts': 3})\n",
      "Row(('0ace8af2-afba-4dcf-a0a9-4e6149d6ac16', '502a0391-d425-4800-a0ed-0e67ab038d69', 'bot ruim', datetime.datetime(2022, 7, 26, 16, 59, 40, 197000, tzinfo=datetime.timezone.utc)), {'sk_comment': 0, 'sk_feedback': 1, 'comment': 2, 'created_ts': 3})\n",
      "Row(('03ea62ed-0851-47d5-98b9-0dcffb27aa19', 'e2000a44-d7c9-495d-b316-de55633aeb47', 'A rapidez', datetime.datetime(2022, 7, 26, 20, 23, 26, 26000, tzinfo=datetime.timezone.utc)), {'sk_comment': 0, 'sk_feedback': 1, 'comment': 2, 'created_ts': 3})\n",
      "Row(('1ea1f709-8814-4f17-8839-9cfd06c5ac16', '9191bbfb-f280-4261-9907-79d2858dafe3', 'Agilidade', datetime.datetime(2022, 7, 27, 0, 43, 49, 14000, tzinfo=datetime.timezone.utc)), {'sk_comment': 0, 'sk_feedback': 1, 'comment': 2, 'created_ts': 3})\n",
      "Row(('1a4f52bc-4824-40fa-a811-0b1a88219940', '0cedb643-793d-4f60-a46c-a97df9c6a8a0', 'Agilidade', datetime.datetime(2022, 7, 26, 16, 24, 15, 822000, tzinfo=datetime.timezone.utc)), {'sk_comment': 0, 'sk_feedback': 1, 'comment': 2, 'created_ts': 3})\n",
      "Row(('991c8e38-b097-4052-a3df-c09dd01d1299', '3f7f0d6d-25ae-44aa-a9ab-2812748949a9', 'Agilidade', datetime.datetime(2022, 7, 26, 19, 7, 23, 516000, tzinfo=datetime.timezone.utc)), {'sk_comment': 0, 'sk_feedback': 1, 'comment': 2, 'created_ts': 3})\n",
      "Row(('d9b07fa4-a6e0-4b70-b8ed-84db707349d0', '07118da4-886c-43b5-9ea3-7032eebbb82e', 'Agilidade', datetime.datetime(2022, 7, 26, 14, 21, 37, 685000, tzinfo=datetime.timezone.utc)), {'sk_comment': 0, 'sk_feedback': 1, 'comment': 2, 'created_ts': 3})\n",
      "Row(('587ce566-7f9f-4028-9e9c-7b1a168be71b', 'a740aab3-440d-4bbf-ab85-d584ace1d6a7', 'Atendente', datetime.datetime(2022, 7, 28, 13, 0, 54, 926000, tzinfo=datetime.timezone.utc)), {'sk_comment': 0, 'sk_feedback': 1, 'comment': 2, 'created_ts': 3})\n",
      "Row(('0e246d9f-5a35-466a-be0c-4629396aaa97', '9f331034-2f74-4702-b45f-4026205874df', 'agilidade', datetime.datetime(2022, 7, 26, 19, 28, 53, 632000, tzinfo=datetime.timezone.utc)), {'sk_comment': 0, 'sk_feedback': 1, 'comment': 2, 'created_ts': 3})\n",
      "Row(('848235e7-1f3c-4913-a465-db9132dbf7ec', '68f78e0c-3262-4e6f-934b-efd2f244d530', 'agilidade', datetime.datetime(2022, 7, 26, 19, 30, 12, 327000, tzinfo=datetime.timezone.utc)), {'sk_comment': 0, 'sk_feedback': 1, 'comment': 2, 'created_ts': 3})\n",
      "Row(('0fdb7fbe-546c-4804-9bb7-8a077eddfed0', '0c185495-53a4-4b0c-bdf6-237b7c2c83dd', 'agilidade', datetime.datetime(2022, 7, 26, 19, 33, 11, 914000, tzinfo=datetime.timezone.utc)), {'sk_comment': 0, 'sk_feedback': 1, 'comment': 2, 'created_ts': 3})\n",
      "Row(('1e87c6a3-1359-4d35-a251-bbd5781b1d0b', '8aa7847a-976c-4060-8fef-1de0b374194e', 'agilidade', datetime.datetime(2022, 7, 26, 19, 34, 0, 124000, tzinfo=datetime.timezone.utc)), {'sk_comment': 0, 'sk_feedback': 1, 'comment': 2, 'created_ts': 3})\n",
      "Row(('d99bfe4c-900b-4383-8da2-ace57014241e', '478b457e-046d-47bb-98f0-ef058bc73647', 'agilidade', datetime.datetime(2022, 7, 26, 19, 37, 9, 193000, tzinfo=datetime.timezone.utc)), {'sk_comment': 0, 'sk_feedback': 1, 'comment': 2, 'created_ts': 3})\n",
      "Row(('3af26cea-9590-4325-82ed-98f1c9d9bfe2', 'e03e03a7-856f-443a-90cd-fdbfa56bfb47', 'agilidade', datetime.datetime(2022, 7, 26, 20, 22, 45, 308000, tzinfo=datetime.timezone.utc)), {'sk_comment': 0, 'sk_feedback': 1, 'comment': 2, 'created_ts': 3})\n",
      "Row(('3f7737cd-c03f-4716-be9e-871edea269ea', '56712b6c-0f38-47c8-b530-cdca1b31fc1e', 'agilidade', datetime.datetime(2022, 7, 26, 11, 19, 47, 394000, tzinfo=datetime.timezone.utc)), {'sk_comment': 0, 'sk_feedback': 1, 'comment': 2, 'created_ts': 3})\n",
      "Row(('13e718b3-ae19-4c6b-8f5a-83177e2bad98', '0f3d612e-d88a-46be-83eb-14b70e636fec', 'agilidade', datetime.datetime(2022, 7, 26, 18, 9, 24, 219000, tzinfo=datetime.timezone.utc)), {'sk_comment': 0, 'sk_feedback': 1, 'comment': 2, 'created_ts': 3})\n",
      "Row(('31238e17-48f5-4dc4-9721-a4dac64a34b8', 'd049441c-2a50-45e9-b87b-0c166e88299e', 'agilidade', datetime.datetime(2022, 7, 26, 15, 8, 4, 515000, tzinfo=datetime.timezone.utc)), {'sk_comment': 0, 'sk_feedback': 1, 'comment': 2, 'created_ts': 3})\n",
      "Row(('7d1bdbcf-3248-41ff-a948-7d8dae82ef7c', '6191f7ff-913d-47c6-9d71-26fdd1e7f612', 'agilidade', datetime.datetime(2022, 7, 26, 15, 50, 11, 271000, tzinfo=datetime.timezone.utc)), {'sk_comment': 0, 'sk_feedback': 1, 'comment': 2, 'created_ts': 3})\n",
      "Row(('a9e84846-c591-40a1-b4a7-372653c27647', 'ad4bf7f0-d616-4d26-a85a-76b4fe0f42a6', 'agilidade', datetime.datetime(2022, 7, 27, 18, 27, 21, 624000, tzinfo=datetime.timezone.utc)), {'sk_comment': 0, 'sk_feedback': 1, 'comment': 2, 'created_ts': 3})\n",
      "Row(('0c9002e2-cc9e-4825-9051-84837be25409', 'badaa478-c784-4532-935c-f122cc2d31a8', 'agilidade', datetime.datetime(2022, 7, 27, 18, 28, 19, 874000, tzinfo=datetime.timezone.utc)), {'sk_comment': 0, 'sk_feedback': 1, 'comment': 2, 'created_ts': 3})\n",
      "Row(('2ef0f7c1-a6a4-433d-b496-1696715df77b', '78ca95c9-69d2-4b9d-a838-2ddf84555446', 'agilidade', datetime.datetime(2022, 7, 27, 18, 37, 54, 324000, tzinfo=datetime.timezone.utc)), {'sk_comment': 0, 'sk_feedback': 1, 'comment': 2, 'created_ts': 3})\n",
      "Row(('39c91e84-5682-4a8a-b029-2d8ea0b8d773', '380ae2fc-9330-4fbb-88f9-0df7c24ff64b', 'agilidade', datetime.datetime(2022, 7, 27, 18, 38, 22, 972000, tzinfo=datetime.timezone.utc)), {'sk_comment': 0, 'sk_feedback': 1, 'comment': 2, 'created_ts': 3})\n",
      "Row(('1a85c447-9807-470b-a5f6-9ae4aebe19c3', '07dc7d91-aeac-46f2-978c-9adfaf82397b', 'agilidade', datetime.datetime(2022, 7, 28, 10, 43, 30, 227000, tzinfo=datetime.timezone.utc)), {'sk_comment': 0, 'sk_feedback': 1, 'comment': 2, 'created_ts': 3})\n",
      "Row(('f63d5c4d-4509-43bc-8f9e-43e5a887945b', 'b163a15a-0cfe-4286-a26e-80d5f70c53d2', 'agilidade', datetime.datetime(2022, 7, 28, 10, 49, 39, 364000, tzinfo=datetime.timezone.utc)), {'sk_comment': 0, 'sk_feedback': 1, 'comment': 2, 'created_ts': 3})\n",
      "Row(('9528ef14-bb5a-4af4-bb55-cf5ab7f6e6ff', '4d2f0913-86c4-4eb4-9b62-4c90d4a961d1', 'agilidade', datetime.datetime(2022, 7, 29, 12, 34, 55, 403000, tzinfo=datetime.timezone.utc)), {'sk_comment': 0, 'sk_feedback': 1, 'comment': 2, 'created_ts': 3})\n",
      "Row(('e90e8840-0e48-497c-be8c-a3f7be3b4766', '6296bdb9-6aad-4466-b607-94cea4436011', 'muito bom', datetime.datetime(2022, 6, 8, 17, 49, 16, 534000, tzinfo=datetime.timezone.utc)), {'sk_comment': 0, 'sk_feedback': 1, 'comment': 2, 'created_ts': 3})\n",
      "Row(('c198a798-7305-42d0-8741-3788f7dced78', 'f8c73c07-fa7f-4502-bfd8-e80ac84b3cc4', '4595465656', datetime.datetime(2022, 6, 8, 17, 49, 28, 536000, tzinfo=datetime.timezone.utc)), {'sk_comment': 0, 'sk_feedback': 1, 'comment': 2, 'created_ts': 3})\n",
      "Row(('8cc46000-a76a-4409-af6a-e3316b55dc1c', 'c95308bd-ed0a-46c9-af7d-5489c25e4bfc', 'atendimento', datetime.datetime(2022, 6, 7, 17, 43, 7, 929000, tzinfo=datetime.timezone.utc)), {'sk_comment': 0, 'sk_feedback': 1, 'comment': 2, 'created_ts': 3})\n",
      "Row(('27fe4a5b-e6f1-4d4c-9c80-1cbad7e4cad5', 'c12486fb-2ada-43b6-9f6f-ca0753de99d6', 'atendimento', datetime.datetime(2022, 6, 7, 18, 9, 20, 839000, tzinfo=datetime.timezone.utc)), {'sk_comment': 0, 'sk_feedback': 1, 'comment': 2, 'created_ts': 3})\n",
      "Row(('21a01ab6-eb55-44a4-9a77-2bb64d3e7884', 'dfe80b51-f7b1-4e98-b32a-34005416cdb6', 'atendimento', datetime.datetime(2022, 7, 12, 15, 59, 29, 649000, tzinfo=datetime.timezone.utc)), {'sk_comment': 0, 'sk_feedback': 1, 'comment': 2, 'created_ts': 3})\n",
      "Row(('727e3cf2-a66d-4d8b-92c9-a6272f5c9870', 'dffd9cbd-c58b-4001-9397-403843a77af1', 'atendimento', datetime.datetime(2022, 7, 20, 10, 47, 5, 58000, tzinfo=datetime.timezone.utc)), {'sk_comment': 0, 'sk_feedback': 1, 'comment': 2, 'created_ts': 3})\n",
      "Row(('ecd5e4ea-548d-4f11-a398-35a4723ff0d3', '532543d6-be2f-450f-82ab-ccfd487c27f5', 'atendimento', datetime.datetime(2022, 7, 26, 14, 9, 30, 897000, tzinfo=datetime.timezone.utc)), {'sk_comment': 0, 'sk_feedback': 1, 'comment': 2, 'created_ts': 3})\n",
      "Row(('4dbf808b-1f35-493e-a242-9f1672838ccc', '0f165115-eccd-40ca-b1ae-36f35bca0baf', 'teste livia', datetime.datetime(2022, 7, 25, 21, 2, 13, 616000, tzinfo=datetime.timezone.utc)), {'sk_comment': 0, 'sk_feedback': 1, 'comment': 2, 'created_ts': 3})\n",
      "Row(('53cd250b-0852-4f80-9ed4-69455851a801', 'b14c796e-e18d-476a-8a57-c1f5d71fd9ee', 'Não resolvi', datetime.datetime(2022, 7, 29, 14, 22, 20, 931000, tzinfo=datetime.timezone.utc)), {'sk_comment': 0, 'sk_feedback': 1, 'comment': 2, 'created_ts': 3})\n",
      "Row(('1acec679-3414-4693-8c8b-390b7aad37eb', '09c6ecac-a867-4858-a928-fa4d0184697a', 'informação', datetime.datetime(2022, 5, 17, 20, 28, 21, 379000, tzinfo=datetime.timezone.utc)), {'sk_comment': 0, 'sk_feedback': 1, 'comment': 2, 'created_ts': 3})\n",
      "Row(('17b383bd-2035-4d24-8da6-7d233bc063de', 'e6ca55ef-9cf2-4c6e-a5e2-879b3376b596', 'informções', datetime.datetime(2022, 5, 16, 20, 35, 47, 939000, tzinfo=datetime.timezone.utc)), {'sk_comment': 0, 'sk_feedback': 1, 'comment': 2, 'created_ts': 3})\n",
      "Row(('8e2c69b2-5151-4cdc-bc92-ede74f11904e', 'da5f43c7-dd0e-459d-886c-9f713d5eb16b', 'nao resolveu', datetime.datetime(2022, 7, 27, 13, 51, 32, 626000, tzinfo=datetime.timezone.utc)), {'sk_comment': 0, 'sk_feedback': 1, 'comment': 2, 'created_ts': 3})\n",
      "Row(('cc41f1de-1d2b-4ca1-81ec-5cc254973075', '4f585c6a-3b9e-4aef-904b-c93e15bd9fd0', 'nao resolveu', datetime.datetime(2022, 7, 28, 15, 27, 12, 16000, tzinfo=datetime.timezone.utc)), {'sk_comment': 0, 'sk_feedback': 1, 'comment': 2, 'created_ts': 3})\n",
      "Row(('edd4a9f7-79d0-45c3-bc03-4692a5eebbe5', '6ea94278-bc46-460c-9b84-331a41cb786b', 'nao resolveu', datetime.datetime(2022, 7, 28, 22, 57, 2, 319000, tzinfo=datetime.timezone.utc)), {'sk_comment': 0, 'sk_feedback': 1, 'comment': 2, 'created_ts': 3})\n",
      "Row(('f649cc58-22f4-4bab-8ad7-908e81f18512', '4c2807f0-e566-43c5-b905-740e8c6b5d53', 'Informações', datetime.datetime(2022, 5, 20, 15, 5, 41, 742000, tzinfo=datetime.timezone.utc)), {'sk_comment': 0, 'sk_feedback': 1, 'comment': 2, 'created_ts': 3})\n",
      "Row(('b30bf73d-d3fe-4a17-824c-46d21c9f6622', '9f3c6c75-2a42-48c7-9964-2716596b031f', 'Não resolveu', datetime.datetime(2022, 7, 29, 16, 54, 0, 727000, tzinfo=datetime.timezone.utc)), {'sk_comment': 0, 'sk_feedback': 1, 'comment': 2, 'created_ts': 3})\n",
      "Row(('06b743be-50ff-4848-9e24-0f69e9b53028', '90d417e7-8158-41e6-8462-c10b824d978d', 'informações', datetime.datetime(2022, 5, 17, 20, 50, 22, 341000, tzinfo=datetime.timezone.utc)), {'sk_comment': 0, 'sk_feedback': 1, 'comment': 2, 'created_ts': 3})\n",
      "Row(('39d90ad1-8e07-4a8b-a8b6-ceb71eeb82e1', '82e70a78-5140-4cbd-a47f-a24e7e223765', 'informações', datetime.datetime(2022, 5, 19, 18, 21, 44, 115000, tzinfo=datetime.timezone.utc)), {'sk_comment': 0, 'sk_feedback': 1, 'comment': 2, 'created_ts': 3})\n",
      "Row(('165e31be-2bae-407e-a192-fa860ff317be', '1b78e67a-b0c9-42b7-932e-da7b90dfe288', 'informações', datetime.datetime(2022, 5, 19, 18, 32, 50, 356000, tzinfo=datetime.timezone.utc)), {'sk_comment': 0, 'sk_feedback': 1, 'comment': 2, 'created_ts': 3})\n",
      "Row(('2f2deb57-746b-4a5d-9510-afea44ac85f7', '7ed105e9-505e-4539-a929-0294d8549083', 'informações', datetime.datetime(2022, 5, 20, 12, 27, 34, 844000, tzinfo=datetime.timezone.utc)), {'sk_comment': 0, 'sk_feedback': 1, 'comment': 2, 'created_ts': 3})\n",
      "Row(('1ce70912-2a5a-42e4-9f47-82ee72839112', '831bf28f-82c5-46bb-b5a4-f249f3875b21', 'informações', datetime.datetime(2022, 5, 24, 13, 26, 54, 662000, tzinfo=datetime.timezone.utc)), {'sk_comment': 0, 'sk_feedback': 1, 'comment': 2, 'created_ts': 3})\n",
      "Row(('da960707-7dce-4ce8-8549-85891aa5b60c', '2a7e3dc2-3d73-4279-a07e-8c4df2fc4d5f', 'A loja é longe', datetime.datetime(2022, 7, 25, 20, 25, 38, 624000, tzinfo=datetime.timezone.utc)), {'sk_comment': 0, 'sk_feedback': 1, 'comment': 2, 'created_ts': 3})\n",
      "Row(('d49eb008-cd63-4217-ab3f-911b5603243b', '6ea2204a-4fa0-4c5a-b26c-558399ba972f', 'Resposta rapida', datetime.datetime(2022, 7, 27, 20, 41, 43, 608000, tzinfo=datetime.timezone.utc)), {'sk_comment': 0, 'sk_feedback': 1, 'comment': 2, 'created_ts': 3})\n",
      "Row(('ed72c6ec-31da-4fbf-9e53-b855d698e003', 'ee8015f3-4ff6-4ebc-ad07-2f8297b74111', 'Bot maravilhoso!', datetime.datetime(2022, 5, 5, 20, 8, 20, 759000, tzinfo=datetime.timezone.utc)), {'sk_comment': 0, 'sk_feedback': 1, 'comment': 2, 'created_ts': 3})\n",
      "Row(('dcfb65a7-c697-4ecb-869d-caefc797eb6b', 'aa2b1a70-cbec-4866-b670-d90d5f55f50c', 'Não resolvi nada', datetime.datetime(2022, 7, 26, 18, 27, 25, 922000, tzinfo=datetime.timezone.utc)), {'sk_comment': 0, 'sk_feedback': 1, 'comment': 2, 'created_ts': 3})\n",
      "Row(('be59c42a-41c2-4018-98d4-0107f1f8e95b', 'ac71cab4-7fd4-42be-8231-958ea7c33334', 'falta de opções', datetime.datetime(2022, 7, 27, 21, 57, 37, 325000, tzinfo=datetime.timezone.utc)), {'sk_comment': 0, 'sk_feedback': 1, 'comment': 2, 'created_ts': 3})\n",
      "Row(('cada7743-2b9c-4920-850c-4620aa11f075', '7e3ef4e1-6a6d-404b-9fcf-9713233b789a', 'otimo atendimento', datetime.datetime(2022, 6, 9, 14, 8, 15, 933000, tzinfo=datetime.timezone.utc)), {'sk_comment': 0, 'sk_feedback': 1, 'comment': 2, 'created_ts': 3})\n",
      "Row(('02149282-5c99-40a1-ac79-98a697e84fb3', 'cefd10c6-04e5-44b6-8335-9522073e278d', 'Não resolveu NADA', datetime.datetime(2022, 7, 26, 23, 49, 39, 617000, tzinfo=datetime.timezone.utc)), {'sk_comment': 0, 'sk_feedback': 1, 'comment': 2, 'created_ts': 3})\n",
      "Row(('68bb07c3-acec-4f4d-a932-9f531f6fe684', 'fd59de2b-2b6f-4bbe-9055-978212901ebc', 'Poderia ser melhor', datetime.datetime(2022, 7, 25, 20, 59, 58, 848000, tzinfo=datetime.timezone.utc)), {'sk_comment': 0, 'sk_feedback': 1, 'comment': 2, 'created_ts': 3})\n",
      "Row(('90ffa199-d0a7-40f2-b9ff-73a059ebe042', 'c87e54ed-efc8-4b1c-b6cc-a2fd2038df7c', 'Pronto atendimento', datetime.datetime(2022, 7, 29, 8, 59, 6, 855000, tzinfo=datetime.timezone.utc)), {'sk_comment': 0, 'sk_feedback': 1, 'comment': 2, 'created_ts': 3})\n",
      "Row(('2c5ee74c-b249-42b2-b32c-00d200739baf', '38d06675-92ee-46ef-a151-f60863118441', 'Quero mas detalhes', datetime.datetime(2022, 7, 26, 1, 59, 59, 713000, tzinfo=datetime.timezone.utc)), {'sk_comment': 0, 'sk_feedback': 1, 'comment': 2, 'created_ts': 3})\n",
      "Row(('600df9c1-a60d-4e97-bc9b-5dc1d22ffad3', 'b138e21d-ee38-4aa5-bbc1-7f5ecf6742d2', 'gostei do serviço', datetime.datetime(2022, 5, 13, 13, 13, 0, 339000, tzinfo=datetime.timezone.utc)), {'sk_comment': 0, 'sk_feedback': 1, 'comment': 2, 'created_ts': 3})\n",
      "Row(('2c2a0f23-c9d0-4f30-9b79-47bbd82bd76e', '6cd7cf0c-ff7b-4bca-b893-e6452626a376', 'ótimo atendimento', datetime.datetime(2022, 6, 9, 12, 52, 28, 738000, tzinfo=datetime.timezone.utc)), {'sk_comment': 0, 'sk_feedback': 1, 'comment': 2, 'created_ts': 3})\n",
      "Row(('762a9cb4-e3e7-4b15-afc0-36d618feabf2', '333d16c7-1e8c-4449-b799-ce3adfe3e2d8', 'Rapidez atendimento', datetime.datetime(2022, 7, 26, 15, 19, 22, 824000, tzinfo=datetime.timezone.utc)), {'sk_comment': 0, 'sk_feedback': 1, 'comment': 2, 'created_ts': 3})\n",
      "Row(('c6797401-2790-4c25-981a-f066ec07f54b', '27d498a7-f29d-47c8-8c10-2fee83f549cc', 'Adorei o atendimento', datetime.datetime(2022, 7, 25, 19, 42, 37, 955000, tzinfo=datetime.timezone.utc)), {'sk_comment': 0, 'sk_feedback': 1, 'comment': 2, 'created_ts': 3})\n",
      "Row(('08da878f-6d44-408f-8291-073738b9304e', 'a421ec0b-3f57-4b96-9687-d40cf1b9afbe', 'Boa noite, agilidade', datetime.datetime(2022, 7, 25, 21, 34, 7, 522000, tzinfo=datetime.timezone.utc)), {'sk_comment': 0, 'sk_feedback': 1, 'comment': 2, 'created_ts': 3})\n",
      "Row(('b996966e-a583-4c06-a1d2-2f4ec4c1e708', '45f48fa1-10b6-4c55-8cd4-1ad7e5147b87', 'Não tem interação', datetime.datetime(2022, 7, 28, 10, 41, 43, 485000, tzinfo=datetime.timezone.utc)), {'sk_comment': 0, 'sk_feedback': 1, 'comment': 2, 'created_ts': 3})\n",
      "Row(('789a098f-7b53-464e-8728-71238594e783', 'a29a1536-3121-47da-b851-944c3bd37098', 'nao achei a soluçao', datetime.datetime(2022, 7, 28, 16, 40, 52, 17000, tzinfo=datetime.timezone.utc)), {'sk_comment': 0, 'sk_feedback': 1, 'comment': 2, 'created_ts': 3})\n",
      "Row(('b4e55998-8702-47aa-a836-75e77904b2b9', '85737116-311a-498c-a2f6-0850b20af59f', 'Falta de entendimento', datetime.datetime(2022, 7, 27, 0, 46, 35, 724000, tzinfo=datetime.timezone.utc)), {'sk_comment': 0, 'sk_feedback': 1, 'comment': 2, 'created_ts': 3})\n",
      "Row(('17b1f3a9-7cbe-4d26-b187-adf70f2b5dc7', 'adf2b738-c1ba-4675-b86d-de59011aef17', 'Muito vago a resposta', datetime.datetime(2022, 7, 29, 16, 18, 44, 414000, tzinfo=datetime.timezone.utc)), {'sk_comment': 0, 'sk_feedback': 1, 'comment': 2, 'created_ts': 3})\n",
      "Row(('d22292dd-5b2a-4a90-8ebe-b99483965b56', 'df22f103-0758-4603-a350-2bc09c56e009', 'Não tive atendimento', datetime.datetime(2022, 7, 29, 14, 23, 50, 326000, tzinfo=datetime.timezone.utc)), {'sk_comment': 0, 'sk_feedback': 1, 'comment': 2, 'created_ts': 3})\n",
      "Row(('5906f810-a166-4423-a185-1b12fcef8431', 'a9b43e39-4e4a-438c-976b-fe97309a403b', 'Rapidez e praticidade', datetime.datetime(2022, 7, 26, 0, 14, 45, 829000, tzinfo=datetime.timezone.utc)), {'sk_comment': 0, 'sk_feedback': 1, 'comment': 2, 'created_ts': 3})\n",
      "Row(('87fd77ed-4986-4848-bc07-f71ad6be41f7', '7e39636d-6243-4bc7-8e48-ffcfb1a5b683', 'não me ajudou em nada', datetime.datetime(2022, 7, 28, 20, 13, 28, 15000, tzinfo=datetime.timezone.utc)), {'sk_comment': 0, 'sk_feedback': 1, 'comment': 2, 'created_ts': 3})\n",
      "Row(('a525eb63-0d56-4c46-8c08-981892ac971b', 'd95c1546-a85b-4048-bb6f-c2499194d9cd', 'Demora no processamento', datetime.datetime(2022, 7, 28, 23, 13, 27, 224000, tzinfo=datetime.timezone.utc)), {'sk_comment': 0, 'sk_feedback': 1, 'comment': 2, 'created_ts': 3})\n",
      "Row(('32dbeb5e-5e6d-47a3-8b24-c8eff49fd4cb', 'a4474754-caac-449a-98cf-117e53c22e4d', 'Meu pedindo não chegou', datetime.datetime(2022, 7, 26, 23, 14, 41, 713000, tzinfo=datetime.timezone.utc)), {'sk_comment': 0, 'sk_feedback': 1, 'comment': 2, 'created_ts': 3})\n",
      "Row(('3ecbd9f3-a412-49e7-a9d1-b3e72a513add', '93b98b78-1ef8-4ad0-aa7c-e40f05a5d223', 'A rapidez no atendimento', datetime.datetime(2022, 7, 27, 18, 35, 25, 216000, tzinfo=datetime.timezone.utc)), {'sk_comment': 0, 'sk_feedback': 1, 'comment': 2, 'created_ts': 3})\n",
      "Row(('8ee92d1a-2ce2-4acc-b9a4-4aff2d515f88', 'ee1bb907-dbf5-45a2-9282-2c28c2c28bd1', 'NÃO ME AUXILIOU EM NADA', datetime.datetime(2022, 7, 26, 13, 55, 40, 912000, tzinfo=datetime.timezone.utc)), {'sk_comment': 0, 'sk_feedback': 1, 'comment': 2, 'created_ts': 3})\n",
      "Row(('b62aa488-f747-4799-abfb-8263b6930e9e', '55d6e0ca-d148-4ccc-9706-e0b82c32ff2a', 'nao localizou meu pedido', datetime.datetime(2022, 7, 28, 22, 28, 5, 423000, tzinfo=datetime.timezone.utc)), {'sk_comment': 0, 'sk_feedback': 1, 'comment': 2, 'created_ts': 3})\n",
      "Row(('f9328d5b-37be-421c-a5c8-9584db76a0e3', '44242395-04db-494e-a89f-302751650f1e', 'Não localizou meu pedido', datetime.datetime(2022, 7, 28, 15, 59, 7, 780000, tzinfo=datetime.timezone.utc)), {'sk_comment': 0, 'sk_feedback': 1, 'comment': 2, 'created_ts': 3})\n",
      "Row(('bb74f707-a606-468e-b09c-c4194a35c22b', '7089ae54-bae8-4759-aea7-a30567476a91', 'Preciso falar com alguém', datetime.datetime(2022, 7, 27, 18, 42, 24, 479000, tzinfo=datetime.timezone.utc)), {'sk_comment': 0, 'sk_feedback': 1, 'comment': 2, 'created_ts': 3})\n",
      "Row(('e1deefce-2904-4040-80f8-2a425a189be7', '320bc8cc-8e0d-4845-87d9-55be790510fe', 'n tem um atendente online', datetime.datetime(2022, 7, 28, 18, 15, 18, 924000, tzinfo=datetime.timezone.utc)), {'sk_comment': 0, 'sk_feedback': 1, 'comment': 2, 'created_ts': 3})\n",
      "Row(('91eec44a-ce94-49ec-b781-c78bec772fdd', '3fa911fa-0420-4646-a483-6804e425a6cb', 'quero falar com atendente', datetime.datetime(2022, 7, 27, 14, 56, 40, 329000, tzinfo=datetime.timezone.utc)), {'sk_comment': 0, 'sk_feedback': 1, 'comment': 2, 'created_ts': 3})\n",
      "Row(('effb9dda-766e-4133-802a-28b7f76cd4ee', '75031c71-07dd-4e66-a252-6e15b98b3c91', 'regeregexFeedbackFeedback', datetime.datetime(2022, 6, 9, 12, 28, 5, 345000, tzinfo=datetime.timezone.utc)), {'sk_comment': 0, 'sk_feedback': 1, 'comment': 2, 'created_ts': 3})\n",
      "Row(('6b450a34-3c57-4aaa-9f1c-19dfc4aecdb6', 'dca3f6db-ee67-4c21-9cb2-5c0624b1997f', 'regexFeedbregexFeedbackck', datetime.datetime(2022, 5, 13, 11, 58, 24, 346000, tzinfo=datetime.timezone.utc)), {'sk_comment': 0, 'sk_feedback': 1, 'comment': 2, 'created_ts': 3})\n"
     ]
    }
   ],
   "source": [
    "rows = query_job.result()\n",
    "for row in rows:\n",
    "    print(row)"
   ]
  },
  {
   "cell_type": "code",
   "execution_count": null,
   "metadata": {},
   "outputs": [],
   "source": []
  }
 ],
 "metadata": {
  "kernelspec": {
   "display_name": "Python 3",
   "language": "python",
   "name": "python3"
  },
  "language_info": {
   "codemirror_mode": {
    "name": "ipython",
    "version": 3
   },
   "file_extension": ".py",
   "mimetype": "text/x-python",
   "name": "python",
   "nbconvert_exporter": "python",
   "pygments_lexer": "ipython3",
   "version": "3.10.11"
  },
  "orig_nbformat": 4
 },
 "nbformat": 4,
 "nbformat_minor": 2
}
