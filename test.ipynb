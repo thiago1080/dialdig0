{
 "cells": [
  {
   "attachments": {},
   "cell_type": "markdown",
   "metadata": {},
   "source": [
    "## Imports"
   ]
  },
  {
   "cell_type": "code",
   "execution_count": 1,
   "metadata": {},
   "outputs": [],
   "source": [
    "import pandas as pd\n",
    "from cred_helper import set_aws_credentials, txt2dict\n",
    "from s3_helper import S3Helper\n",
    "from loguru import logger"
   ]
  },
  {
   "attachments": {},
   "cell_type": "markdown",
   "metadata": {},
   "source": [
    "### Set credentials as environment variables"
   ]
  },
  {
   "cell_type": "code",
   "execution_count": 2,
   "metadata": {},
   "outputs": [],
   "source": [
    "set_aws_credentials(txt2dict('./config/local/aws_credentials.txt'))"
   ]
  },
  {
   "attachments": {},
   "cell_type": "markdown",
   "metadata": {},
   "source": [
    "### Get df with class S3Helper"
   ]
  },
  {
   "cell_type": "code",
   "execution_count": 3,
   "metadata": {},
   "outputs": [
    {
     "name": "stderr",
     "output_type": "stream",
     "text": [
      "2023-05-31 15:35:49.396 | SUCCESS  | s3_helper.s3_helper:load_s3:23 - Função realizada com sucesso\n",
      "/home/thiago/.conda/envs/le/lib/python3.10/site-packages/openpyxl/styles/stylesheet.py:226: UserWarning: Workbook contains no default style, apply openpyxl's default\n",
      "  warn(\"Workbook contains no default style, apply openpyxl's default\")\n",
      "2023-05-31 15:35:49.605 | SUCCESS  | s3_helper.s3_helper:data2df:51 - Sucesso. Dataframe contém 398 linhas\n"
     ]
    }
   ],
   "source": [
    "s3h = S3Helper()\n",
    "s3h.client()\n",
    "df = s3h.load_df(bucket_name='ds-main-s3-200624937306-dataset', file_key='ds-mtc-dialdig/call_center_dia_tudo.xlsx', type='excel')"
   ]
  },
  {
   "attachments": {},
   "cell_type": "markdown",
   "metadata": {},
   "source": [
    "### preprocessing"
   ]
  },
  {
   "cell_type": "code",
   "execution_count": 4,
   "metadata": {},
   "outputs": [],
   "source": [
    "def rename_cols(df):\n",
    "    key_mapping = {key: key.lower().replace(' ', '_').replace('%','porc_').replace('.','') for key in df.columns}\n",
    "    df.rename(columns=key_mapping, inplace=True)"
   ]
  },
  {
   "cell_type": "code",
   "execution_count": 5,
   "metadata": {},
   "outputs": [],
   "source": [
    "def dropna_cols(df, porc = 0.3):\n",
    "    nans = df.isna().sum()/df.shape[0]\n",
    "    for i in nans.index:\n",
    "        if nans[i] > porc:\n",
    "            df.drop(i, axis=1, inplace=True)\n",
    "            logger.info('Coluna {} removida por ter mais de {}% de valores nulos'.format(i, porc*100))"
   ]
  },
  {
   "cell_type": "code",
   "execution_count": 6,
   "metadata": {},
   "outputs": [
    {
     "data": {
      "text/plain": [
       "data                       0\n",
       "cham_forecast              0\n",
       "cham_recebidas             0\n",
       "cham_atendidas             0\n",
       "cham_ativas                0\n",
       "chat                       0\n",
       "total_contatos             0\n",
       "tma_ativo                  0\n",
       "porc_fcr21                 0\n",
       "cham_abandonadas           0\n",
       "porc__abandono             0\n",
       "porc__nível_de_serviço_    0\n",
       "tma                        0\n",
       "tme                        0\n",
       "t_médio_abandono           0\n",
       "porc__nss                  0\n",
       "porc__pesq_respondidas     0\n",
       "atendidas_ns               0\n",
       "dtype: int64"
      ]
     },
     "execution_count": 6,
     "metadata": {},
     "output_type": "execute_result"
    }
   ],
   "source": [
    "rename_cols(df)\n",
    "df = df.dropna()\n",
    "df = df.iloc[:-1,:]\n",
    "df['data'] = pd.to_datetime(df['data'], format='%Y-%m-%d %H:%M:%S')\n",
    "df.isna().sum()"
   ]
  },
  {
   "attachments": {},
   "cell_type": "markdown",
   "metadata": {},
   "source": [
    "### Exploratory analysis"
   ]
  },
  {
   "cell_type": "code",
   "execution_count": null,
   "metadata": {},
   "outputs": [],
   "source": []
  }
 ],
 "metadata": {
  "kernelspec": {
   "display_name": "Python 3",
   "language": "python",
   "name": "python3"
  },
  "language_info": {
   "codemirror_mode": {
    "name": "ipython",
    "version": 3
   },
   "file_extension": ".py",
   "mimetype": "text/x-python",
   "name": "python",
   "nbconvert_exporter": "python",
   "pygments_lexer": "ipython3",
   "version": "3.10.0"
  },
  "orig_nbformat": 4
 },
 "nbformat": 4,
 "nbformat_minor": 2
}
